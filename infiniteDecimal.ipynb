{
 "cells": [
  {
   "cell_type": "code",
   "execution_count": 1,
   "metadata": {
    "collapsed": true
   },
   "outputs": [],
   "source": [
    "'''\n",
    "draw infinite decimal\n",
    "number turned into angles\n",
    "'''\n",
    "from  sympy import *\n",
    "a=str(S('1/99081').evalf(3000))\n",
    "#a=str(pi.evalf(10000))\n",
    "a=a.split(\".\")[1]\n",
    "import turtle\n",
    "turtle.speed(0)\n",
    "turtle.delay(0)\n",
    "turtle.color('green')\n",
    "turtle.up()\n",
    "#turtle.goto(-200,-300)\n",
    "turtle.resizemode('user')\n",
    "turtle.down()\n",
    "for i in a:\n",
    "    b=int(i)\n",
    "    if b !=0:\n",
    "        turtle.left(int(360/b))\n",
    "    turtle.forward(10)\n",
    "\n",
    "turtle.mainloop()\n",
    "\n",
    "\n",
    "\n",
    "\n",
    "\n"
   ]
  }
 ],
 "metadata": {
  "kernelspec": {
   "name": "pycharm-fa6cc8b7",
   "language": "python",
   "display_name": "PyCharm (chapter5)"
  },
  "language_info": {
   "codemirror_mode": {
    "name": "ipython",
    "version": 2
   },
   "file_extension": ".py",
   "mimetype": "text/x-python",
   "name": "python",
   "nbconvert_exporter": "python",
   "pygments_lexer": "ipython2",
   "version": "2.7.6"
  }
 },
 "nbformat": 4,
 "nbformat_minor": 0
}